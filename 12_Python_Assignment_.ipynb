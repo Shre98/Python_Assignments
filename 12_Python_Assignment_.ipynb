{
 "cells": [
  {
   "cell_type": "markdown",
   "id": "b7231b20",
   "metadata": {},
   "source": [
    "# Python Basic Programming Assignment 12\n",
    "-------------"
   ]
  },
  {
   "cell_type": "markdown",
   "id": "d2ec324d",
   "metadata": {},
   "source": [
    "### 1. Write a Python program to Extract Unique values dictionary values?"
   ]
  },
  {
   "cell_type": "code",
   "execution_count": 2,
   "id": "2e90ae2e-6a70-41ae-a027-590ebea2f29a",
   "metadata": {},
   "outputs": [
    {
     "name": "stdout",
     "output_type": "stream",
     "text": [
      "dict_values(['Sunflower', 'vasco', 'goa', 'vasco', 'goa', 'rose', 'peach'])\n",
      "Unique Values: ['rose', 'goa', 'peach', 'Sunflower', 'vasco']\n"
     ]
    }
   ],
   "source": [
    "in_dict = {1:'Sunflower',2:'vasco',3:'goa',4:'vasco',5:'goa',6:'rose',7:'peach'}\n",
    "print(in_dict.values())\n",
    "print(f'Unique Values: {list(set(in_dict.values()))}')"
   ]
  },
  {
   "cell_type": "markdown",
   "id": "203bcbc3",
   "metadata": {},
   "source": [
    "### 2. Write a Python program to find the sum of all items in a dictionary?"
   ]
  },
  {
   "cell_type": "code",
   "execution_count": 4,
   "id": "9ef2e02b-e5f7-45de-a275-71cf522a9d38",
   "metadata": {},
   "outputs": [
    {
     "name": "stdout",
     "output_type": "stream",
     "text": [
      "Sum of All items:  2710\n"
     ]
    }
   ],
   "source": [
    "in_dict = {'Apple':340,'wallnut':200,'Banana':130,'Guava':40,'PineApple':2000}\n",
    "print('Sum of All items: ',sum(in_dict.values()))"
   ]
  },
  {
   "cell_type": "markdown",
   "id": "edfbc682",
   "metadata": {},
   "source": [
    "### 3. Write a Python program to Merging two Dictionaries?"
   ]
  },
  {
   "cell_type": "code",
   "execution_count": 6,
   "id": "8356c9c7-5f8d-4dc5-a348-a2275623b39d",
   "metadata": {},
   "outputs": [
    {
     "name": "stdout",
     "output_type": "stream",
     "text": [
      "{'course_name': 'FSDA', 'course_instructors': ['Sudhanshu Kumar', 'Krish Naik', 'Anand Jha']}\n"
     ]
    }
   ],
   "source": [
    "course_details = {\n",
    "    'course_name':'FSDA'\n",
    "}\n",
    "instructors = {\n",
    "    'course_instructors':['Sudhanshu Kumar','Krish Naik','Anand Jha']\n",
    "}\n",
    "course_details.update(instructors)\n",
    "print(course_details)"
   ]
  },
  {
   "cell_type": "markdown",
   "id": "62eaf687",
   "metadata": {},
   "source": [
    "### 4. Write a Python program to convert key-values list to flat dictionary?"
   ]
  },
  {
   "cell_type": "code",
   "execution_count": 7,
   "id": "305f3b57-e426-475e-9208-6f8d6ed2c33f",
   "metadata": {},
   "outputs": [
    {
     "name": "stdout",
     "output_type": "stream",
     "text": [
      "{'A': 10, 'B': 20, 'C': 30, 'D': 40, 'E': 50, 'F': 60, 'G': 70, 'H': 80, 'I': 90, 'J': 100}\n"
     ]
    }
   ],
   "source": [
    "in_list = [('A',10),('B',20),('C',30),('D',40),('E',50),('F',60),('G',70),('H',80),('I',90),('J',100)]\n",
    "\n",
    "# Method #1\n",
    "dict(in_list)\n",
    "\n",
    "# Method #2\n",
    "out_dict = {}\n",
    "for ele in in_list:\n",
    "    out_dict[ele[0]] = ele[1]\n",
    "print(out_dict)"
   ]
  },
  {
   "cell_type": "markdown",
   "id": "fcc5015f",
   "metadata": {},
   "source": [
    "### 5. Write a Python program to insertion at the beginning in OrderedDict?"
   ]
  },
  {
   "cell_type": "code",
   "execution_count": 8,
   "id": "26b9a6dc-0c27-404f-8508-6a4158ea99bb",
   "metadata": {},
   "outputs": [
    {
     "name": "stdout",
     "output_type": "stream",
     "text": [
      "dict_one OrderedDict([('Max', 'Iphone'), ('Microsoft', 'Windows'), ('Google', 'chrome')])\n",
      "dict_one OrderedDict([('Max', 'Iphone'), ('Microsoft', 'Windows'), ('Google', 'chrome'), ('Tesla', 'SpaceX')])\n",
      "dict_one OrderedDict([('Tesla', 'SpaceX'), ('Max', 'Iphone'), ('Microsoft', 'Windows'), ('Google', 'chrome')])\n"
     ]
    }
   ],
   "source": [
    "from collections import OrderedDict\n",
    "dict_one = OrderedDict({'Max':'Iphone','Microsoft':'Windows','Google':'chrome'})\n",
    "print('dict_one',dict_one)\n",
    "dict_two = {'Tesla':'SpaceX'}\n",
    "dict_one.update(dict_two)\n",
    "print('dict_one',dict_one)\n",
    "dict_one.move_to_end('Tesla',last=False)\n",
    "print('dict_one',dict_one)"
   ]
  },
  {
   "cell_type": "markdown",
   "id": "5978c9ab",
   "metadata": {},
   "source": [
    "### 6. Write a Python program to check order of character in string using OrderedDict()?"
   ]
  },
  {
   "cell_type": "code",
   "execution_count": 12,
   "id": "cf119972-41cf-453a-8c73-a37696c3a40f",
   "metadata": {},
   "outputs": [
    {
     "name": "stdout",
     "output_type": "stream",
     "text": [
      "{'a': 1000, 'f': 2000, 'd': 350, 'c': 400, 'b': 5050, 'e': 6000}\n",
      "OrderedDict([('a', 1000), ('b', 5050), ('c', 400), ('d', 350), ('e', 6000), ('f', 2000)])\n"
     ]
    }
   ],
   "source": [
    "from collections import OrderedDict\n",
    "\n",
    "initial_list = {'a': 1000, 'f': 2000, 'd': 350, 'c': 400, 'b': 5050, 'e': 6000}\n",
    "print(initial_list)\n",
    "\n",
    "final_list = OrderedDict(dict(sorted(initial_list.items())))\n",
    "print(final_list)"
   ]
  },
  {
   "cell_type": "markdown",
   "id": "f330da77",
   "metadata": {},
   "source": [
    "### 7. Write a Python program to sort Python Dictionaries by Key or Value?"
   ]
  },
  {
   "cell_type": "code",
   "execution_count": 11,
   "id": "1e6035a3-fc69-4ea9-a64f-d219824bc8f2",
   "metadata": {},
   "outputs": [
    {
     "name": "stdout",
     "output_type": "stream",
     "text": [
      "{'Blueberry': 600, 'Meswak': 100, 'PineApple': 150, 'Plum': 130}\n",
      "{'Meswak': 100, 'Plum': 130, 'PineApple': 150, 'Blueberry': 600}\n"
     ]
    }
   ],
   "source": [
    "d_items = {'Meswak':100,'PineApple':150,'Blueberry':600,'Plum':130}\n",
    "\n",
    "def sort_dict(in_dict,sort_type):\n",
    "    if sort_type == 'key':\n",
    "        print(dict(sorted(in_dict.items(), key=lambda x:x[0], reverse=False)))\n",
    "    else:\n",
    "        print(dict(sorted(in_dict.items(), key=lambda x:x[1], reverse=False)))\n",
    "        \n",
    "sort_dict(d_items,'key')        \n",
    "sort_dict(d_items,'value')"
   ]
  },
  {
   "cell_type": "code",
   "execution_count": null,
   "id": "2a20e3e5-90fe-440f-9105-34cdbfe57f66",
   "metadata": {},
   "outputs": [],
   "source": []
  }
 ],
 "metadata": {
  "kernelspec": {
   "display_name": "Python 3 (ipykernel)",
   "language": "python",
   "name": "python3"
  },
  "language_info": {
   "codemirror_mode": {
    "name": "ipython",
    "version": 3
   },
   "file_extension": ".py",
   "mimetype": "text/x-python",
   "name": "python",
   "nbconvert_exporter": "python",
   "pygments_lexer": "ipython3",
   "version": "3.11.4"
  }
 },
 "nbformat": 4,
 "nbformat_minor": 5
}
