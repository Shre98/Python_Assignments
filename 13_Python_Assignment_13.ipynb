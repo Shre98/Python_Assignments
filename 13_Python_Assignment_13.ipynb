{
 "cells": [
  {
   "cell_type": "markdown",
   "id": "62fd0c8e",
   "metadata": {},
   "source": [
    "# Python Programming Basic Assignment 13"
   ]
  },
  {
   "cell_type": "markdown",
   "id": "ed4a3c0b",
   "metadata": {},
   "source": [
    "\n",
    "### 1. Write a program that calculates and prints the value according to the given formula:\n",
    "Q = Square root of [(2 C D)/H]\n",
    "\n",
    "Following are the fixed values of C and H:\n",
    "\n",
    "C is 50. H is 30.\n",
    "\n",
    "D is the variable whose values should be input to your program in a comma-separated sequence.\n",
    "\n",
    "Example\n",
    "\n",
    "Let us assume the following comma separated input sequence is given to the program:\n",
    "\n",
    "100,150,180\n",
    "\n",
    "The output of the program should be:\n",
    "\n",
    "18,22,24"
   ]
  },
  {
   "cell_type": "code",
   "execution_count": 1,
   "id": "0e608ba1-deeb-44ed-b822-a0e23f65d482",
   "metadata": {},
   "outputs": [
    {
     "name": "stdin",
     "output_type": "stream",
     "text": [
      "Enter the Input:  100,150,180\n"
     ]
    },
    {
     "name": "stdout",
     "output_type": "stream",
     "text": [
      "Output: 18,22,24\n"
     ]
    }
   ],
   "source": [
    "from math import sqrt\n",
    "def calculateProgram():\n",
    "    in_num = eval(input(\"Enter the Input: \"))\n",
    "    out_num = []\n",
    "    C = 50 # Declaring and initializing constant C\n",
    "    H = 30 # Declaring and initializing constant H\n",
    "    for ele in in_num:\n",
    "        Q = str(int(sqrt((2*C*ele)/H)))\n",
    "        out_num.append(Q)\n",
    "    print(\"Output: {}\".format(','.join(out_num)))\n",
    "    \n",
    "calculateProgram()"
   ]
  },
  {
   "cell_type": "markdown",
   "id": "ed37b6ed",
   "metadata": {},
   "source": [
    "### 2. Write a program which takes 2 digits, X,Y as input and generates a 2-dimensional array. The element value in the i-th row and j-th column of the array should be i*j."
   ]
  },
  {
   "cell_type": "code",
   "execution_count": 2,
   "id": "5ffb0f77-4f40-454a-af50-65f1283d0295",
   "metadata": {},
   "outputs": [
    {
     "name": "stdin",
     "output_type": "stream",
     "text": [
      "Enter the No of Rows: 3\n",
      "Enter the No of Columns: 2\n"
     ]
    },
    {
     "name": "stdout",
     "output_type": "stream",
     "text": [
      "[[0, 0], [0, 1], [0, 2]]\n"
     ]
    }
   ],
   "source": [
    "import array as arr\n",
    "def generateArray():\n",
    "    in_x = int(input('Enter the No of Rows:'))\n",
    "    in_y = int(input('Enter the No of Columns:')) \n",
    "    out_array = []\n",
    "    for ele in range(in_x):\n",
    "        out_array.insert(in_x,[])\n",
    "        for sub_ele in range(in_y):\n",
    "            out_array[ele].append(ele*sub_ele)\n",
    "    print(out_array)\n",
    "    \n",
    "generateArray()"
   ]
  },
  {
   "cell_type": "markdown",
   "id": "bc7f977b",
   "metadata": {},
   "source": [
    "### 3. Write a program that accepts a comma separated sequence of words as input and prints the words in a comma-separated sequence after sorting them alphabetically."
   ]
  },
  {
   "cell_type": "code",
   "execution_count": 3,
   "id": "ae3a0dfe-1587-48e1-bf10-98ed59d785e2",
   "metadata": {},
   "outputs": [
    {
     "name": "stdin",
     "output_type": "stream",
     "text": [
      "Enter the Input String:  hello,nice,to,meet,you,good,evening\n"
     ]
    },
    {
     "name": "stdout",
     "output_type": "stream",
     "text": [
      "Output: evening,good,hello,meet,nice,to,you\n"
     ]
    }
   ],
   "source": [
    "def sortString():\n",
    "    in_string = input(\"Enter the Input String: \")\n",
    "    out_string = ','.join(sorted(in_string.split(',')))\n",
    "    print(f'Output: {out_string}')\n",
    "    \n",
    "sortString()"
   ]
  },
  {
   "cell_type": "markdown",
   "id": "171c3d90",
   "metadata": {},
   "source": [
    "### 4. Write a program that accepts a sequence of whitespace separated words as input and prints the words after removing all duplicate words and sorting them alphanumerically."
   ]
  },
  {
   "cell_type": "code",
   "execution_count": 4,
   "id": "e49b2010-a69b-4289-886d-a71568bf25e0",
   "metadata": {},
   "outputs": [
    {
     "name": "stdin",
     "output_type": "stream",
     "text": [
      "Enter the Input String:  hello world and practice makes perfect and hello world again\n"
     ]
    },
    {
     "name": "stdout",
     "output_type": "stream",
     "text": [
      "Output: again and hello makes perfect practice world\n"
     ]
    }
   ],
   "source": [
    "def sortAlphaNumerically():\n",
    "    in_string = input(\"Enter the Input String: \")\n",
    "    out_string = ' '.join(sorted(sorted(list(set(in_string.split(\" \"))))))\n",
    "    print(f'Output: {out_string}')\n",
    "    \n",
    "sortAlphaNumerically()"
   ]
  },
  {
   "cell_type": "markdown",
   "id": "88d25c49",
   "metadata": {},
   "source": [
    "### 5. Write a program that accepts a sentence and calculate the number of letters and digits."
   ]
  },
  {
   "cell_type": "code",
   "execution_count": 5,
   "id": "cdca373d-8a0b-4899-bf18-2b1635054d3a",
   "metadata": {},
   "outputs": [
    {
     "name": "stdin",
     "output_type": "stream",
     "text": [
      "Enter the Input String:  good evening2023 today!\n"
     ]
    },
    {
     "name": "stdout",
     "output_type": "stream",
     "text": [
      "LETTERS 16 \n",
      "DIGITS 4\n"
     ]
    }
   ],
   "source": [
    "def countLetterAndDigits():\n",
    "    in_string = input(\"Enter the Input String: \")\n",
    "    lettersList = 'ABCDEFGHIJKLMNOPQRSTUVWXYZabcdefghijklmnopqrstuvwxyz'\n",
    "    digitsList = '0123456789'\n",
    "    letters = 0\n",
    "    digits = 0\n",
    "    for ele in in_string:\n",
    "        if ele in lettersList:\n",
    "            letters += 1\n",
    "        if ele in digitsList:\n",
    "            digits += 1\n",
    "    print(f'LETTERS {letters} \\nDIGITS {digits}')\n",
    "        \n",
    "countLetterAndDigits()"
   ]
  },
  {
   "cell_type": "markdown",
   "id": "9695c4ca",
   "metadata": {},
   "source": [
    "### 6. A website requires the users to input username and password to register. Write a program to check the validity of password input by users."
   ]
  },
  {
   "cell_type": "code",
   "execution_count": 7,
   "id": "046c9511-7adc-4d90-a103-846cdd478172",
   "metadata": {},
   "outputs": [
    {
     "name": "stdin",
     "output_type": "stream",
     "text": [
      "Enter the Input String:  ABdeghd@12,dgr%hj8,mklshg&*\n"
     ]
    },
    {
     "name": "stdout",
     "output_type": "stream",
     "text": [
      "ABdeghd@12\n"
     ]
    }
   ],
   "source": [
    "def checkPassword():\n",
    "    in_string = input(\"Enter the Input String: \")\n",
    "    small_list = \"abcdefghijklmnopqrstuvwxyz\"\n",
    "    cap_list = \"ABCDEFGHIJKLMNOPQRSTUVWXYZ\"\n",
    "    num_list = \"0123456789\"\n",
    "    special_list = \"$#@\"\n",
    "    for ele in in_string.split(\",\"):\n",
    "        if len(ele) <= 12 and len(ele) >=6 :\n",
    "            if any(i.isupper() for i in ele):\n",
    "                if any(i.islower() for i in ele):\n",
    "                    if any(i for i in ele if i in special_list):\n",
    "                        print(ele)\n",
    "                               \n",
    "checkPassword() "
   ]
  },
  {
   "cell_type": "code",
   "execution_count": null,
   "id": "e8d1d835-de3f-4173-bf0b-49434cbb176a",
   "metadata": {},
   "outputs": [],
   "source": []
  }
 ],
 "metadata": {
  "kernelspec": {
   "display_name": "Python 3 (ipykernel)",
   "language": "python",
   "name": "python3"
  },
  "language_info": {
   "codemirror_mode": {
    "name": "ipython",
    "version": 3
   },
   "file_extension": ".py",
   "mimetype": "text/x-python",
   "name": "python",
   "nbconvert_exporter": "python",
   "pygments_lexer": "ipython3",
   "version": "3.11.4"
  }
 },
 "nbformat": 4,
 "nbformat_minor": 5
}
